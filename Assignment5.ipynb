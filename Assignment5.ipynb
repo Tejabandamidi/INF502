{
  "nbformat": 4,
  "nbformat_minor": 0,
  "metadata": {
    "colab": {
      "provenance": [],
      "toc_visible": true
    },
    "kernelspec": {
      "name": "python3",
      "display_name": "Python 3"
    },
    "language_info": {
      "name": "python"
    }
  },
  "cells": [
    {
      "cell_type": "code",
      "source": [
        "#Taking inputs from the user as integer type and assigning to two variables a and b\n",
        "a = int(input(\"Please enter the first positive integer: \"))\n",
        "b = int(input(\"Please enter the second positive integer: \"))\n",
        "\n",
        "#This function is defined to calculate the GDF of two integers given as input by the user\n",
        "#This is a recursive function \n",
        "def GDF(a,b):\n",
        "\n",
        "    # Comparing two integers a,b and assigning the greatest value and smallest value to the variables largest_number and smallest_number respectively\n",
        "    # Verifying the condition when both the integers are equal or smallest number is 0 and returning the greatest value if any of these conditions are satisfied\n",
        "    # Else calculating the remainder of the largest and smallest values and assigning the result to a variable remainder\n",
        "\n",
        "    largest_number = max(a,b)\n",
        "    smallest_number = min(a,b)\n",
        "    if largest_number == smallest_number or smallest_number == 0:\n",
        "        return largest_number\n",
        "    elif largest_number == 0:\n",
        "        return smallest_number\n",
        "    else:\n",
        "        remainder = largest_number%smallest_number\n",
        "\n",
        "    # When both the numbers are non-zero, verifying condition for the remainder obtained \n",
        "    # if the remainder is a non-zero value, then returning the values to the recursive function for further calculations\n",
        "    # Else returning the divisor (in this case the smallest_number)\n",
        "        if remainder!=0:\n",
        "            return GDF(smallest_number, remainder)\n",
        "        else:\n",
        "            return smallest_number\n",
        "\n",
        "#Displaying the output\n",
        "print(\"GDF of a, b is :\",GDF(a,b) )\n"
      ],
      "metadata": {
        "colab": {
          "base_uri": "https://localhost:8080/"
        },
        "id": "ZTxcJ4Slc2yD",
        "outputId": "6680a289-054f-4ede-c997-7bbc1e038c91"
      },
      "execution_count": 25,
      "outputs": [
        {
          "output_type": "stream",
          "name": "stdout",
          "text": [
            "Please enter the first positive integer: 30\n",
            "Please enter the second positive integer: 4\n",
            "GDF of a, b is : 2\n"
          ]
        }
      ]
    },
    {
      "cell_type": "markdown",
      "source": [
        "# **OUTPUT**\n",
        "---\n",
        "*EXAMPLE 1*\n",
        "\n",
        "Please enter the first positive integer: 30\n",
        "\n",
        "Please enter the second positive integer: 4\n",
        "\n",
        "GDF of a, b is : 2\n",
        "\n",
        "---\n",
        "*EXAMPLE 2*\n",
        "\n",
        "Please enter the first positive integer: 8\n",
        "\n",
        "Please enter the second positive integer: 8\n",
        "\n",
        "GDF of a, b is : 8\n",
        "\n",
        "---\n",
        "\n",
        "\n",
        "*EXAMPLE 3*\n",
        "\n",
        "Please enter the first positive integer: 5\n",
        "\n",
        "Please enter the second positive integer: 0\n",
        "\n",
        "GDF of a, b is : 5\n",
        "\n",
        "---\n",
        "\n",
        "\n",
        "*EXAMPLE 4*\n",
        "\n",
        "Please enter the first positive integer: 18\n",
        "\n",
        "Please enter the second positive integer: 5\n",
        "\n",
        "GDF of a, b is : 1"
      ],
      "metadata": {
        "id": "5k1fAFlmEXxg"
      }
    },
    {
      "cell_type": "markdown",
      "source": [
        "# DESCRIPTION\n",
        "\n",
        "---\n",
        "**CODE EXPLANATION**\n",
        "\n",
        "\n",
        "---\n",
        "To begin with, this code is based on a recursive function.\n",
        "\n",
        "The function def GDF() begins after taking the input values from the user. The function GDF is a recursive function in which all the required operations like division are done. \n",
        "First, the given numbers are compared and if both the values are equal, then it returns the same value. If one of the two values is 0, then the non-zero number is returned.\n",
        "\n",
        "In the next case, when both the numbers are not equal, the greatest value and smallest values are assigned to two variables \"largest_number and smallest_number\". These numbers are required for calculating the \"remainder\" which is the fraction of \"largest_number/smallest_number\". After calculating the remainder, the next step is repeating the division operation until the remainder becomes 0. It is done by verifying the condition if the remainder is not 0, then the divisor in the previous step i.e, the smallest_number is divided by the remainder obtained. This step is returned until the remainder becomes 0.\n",
        "\n",
        "Once the remainder is obtained as 0, then the divisor i.e, smallest_number is returned as it is the greatest common divisor for the provided values.\n",
        "\n",
        "\n",
        "\n",
        "\n",
        "---\n",
        "\n",
        "**EXAMPLE EXPLAINED STEP-BY-STEP**\n",
        "\n",
        "\n",
        "---\n",
        "\n",
        "\n",
        "*OUTPUT EXAMPLE 1 is explained* \n",
        "\n",
        "Here, **a=30** and **b=4**. \n",
        "\n",
        "As per our code, the first step is to check the conditions, and both the largest and smallest numbers are assigned to respective variables. Which means the largest_number is 30 and the smallest_number is 4.\n",
        "\n",
        "Checking the condition if two numbers are equal or not and returning the respective output. In this case, two numbers are not equal, so we proceed to the next step. Here, other conditions are verified if any of the two numbers is equal to 0. Both numbers are non-zero values. So, they proceeded to perform the division operation which is required to find the GDF. Here the numbers are divided in such a way that a larger number is divided by a smaller number:\n",
        "\n",
        "(30/4) which results in 2 as the remainder.\n",
        "\n",
        "The next step is repeating the same operation by using the smallest number in the previous step with the obtained remainder by recursion i.e, dividing the smallest number by the remainder.\n",
        "\n",
        "(4/2) which results in 0 as the remainder.\n",
        "\n",
        "Here, the remainder is 0 which means returning the divisor for which the result is obtained as 0.\n",
        "\n",
        "In this case, it returns \"2\". Hence GDF obtained is 2."
      ],
      "metadata": {
        "id": "Lgm5VasaMpC1"
      }
    }
  ]
}